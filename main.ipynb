{
 "cells": [
  {
   "cell_type": "code",
   "execution_count": 3,
   "metadata": {},
   "outputs": [],
   "source": [
    "import random\n",
    "import torch\n",
    "import torch.optim as optim\n",
    "import torch.nn as nn\n",
    "from typing import List, Tuple, Union, Optional, Any\n",
    "from connect_4_env import ConnectFourEnv\n",
    "from tqdm import tqdm\n",
    "import math\n",
    "import torch.nn.functional as F\n",
    "from replay_buffer import ReplayBuffer\n",
    "from monte_carlo_agent import MonteCarloTreeSearchAgent \n",
    "from agent import RandomAgent, Agent\n",
    "from human_agent import HumanAgent\n",
    "import torch.optim.lr_scheduler as lr_scheduler"
   ]
  },
  {
   "cell_type": "code",
   "execution_count": 4,
   "metadata": {},
   "outputs": [],
   "source": [
    "env = ConnectFourEnv()\n",
    "monte10 = MonteCarloTreeSearchAgent(env, n_iterations=10)\n",
    "monte100 = MonteCarloTreeSearchAgent(env, n_iterations=100)\n",
    "monte1_000 = MonteCarloTreeSearchAgent(env, n_iterations=1_000)\n",
    "monte10_000 = MonteCarloTreeSearchAgent(env, n_iterations=10_000)\n",
    "monte50_000 = MonteCarloTreeSearchAgent(env, n_iterations=50_000)\n",
    "\n",
    "# Test my own strength\n",
    "# env.play(monte, HumanAgent(env), n_games=20)"
   ]
  },
  {
   "cell_type": "code",
   "execution_count": 5,
   "metadata": {},
   "outputs": [],
   "source": [
    "device = torch.device(\"cuda\" if torch.cuda.is_available() else \"cpu\")"
   ]
  },
  {
   "cell_type": "code",
   "execution_count": 9,
   "metadata": {},
   "outputs": [],
   "source": [
    "class DQN(nn.Module):\n",
    "    def __init__(self, input_shape, num_actions):\n",
    "        super(DQN, self).__init__()\n",
    "        self.input_shape = input_shape\n",
    "        self.conv = nn.Conv2d(1, 128, kernel_size=4, stride=1, padding=0)\n",
    "        self.fc1 = nn.Linear(128 * (input_shape[0] - 3) * (input_shape[1] - 3), 64)\n",
    "        self.fc2 = nn.Linear(64, 64)\n",
    "        self.output = nn.Linear(64, num_actions)\n",
    "\n",
    "    def forward(self, x):\n",
    "        x = x.view(-1, 1, self.input_shape[0], self.input_shape[1])\n",
    "        x = F.relu(self.conv(x))\n",
    "        x = x.view(x.size(0), -1) \n",
    "        x = F.relu(self.fc1(x))\n",
    "        x = F.relu(self.fc2(x))\n",
    "        x = self.output(x)\n",
    "        return x\n",
    "\n",
    "class DQNAgent(Agent):\n",
    "    def __init__(self, env, replay_buffer, evaluation_agent=None):\n",
    "        super().__init__(env)\n",
    "        self.name = \"DQNAgent\"\n",
    "        self.state_dim = env.observation_space.shape\n",
    "        self.action_dim = env.action_space.n\n",
    "        self.replay_buffer: ReplayBuffer = replay_buffer\n",
    "        self.policy_net = DQN(self.state_dim, self.action_dim).to(device)\n",
    "        self.target_net = DQN(self.state_dim, self.action_dim).to(device)\n",
    "        self.target_net.load_state_dict(self.policy_net.state_dict())\n",
    "        self.target_net.eval()  # Target net is not trained\n",
    "        self.lr = 0.005\n",
    "        self.optimizer = optim.Adam(self.policy_net.parameters(), lr=self.lr)\n",
    "        # self.lr_scheduler = lr_scheduler.ExponentialLR(optimizer=self.optimizer, gamma=0.99)\n",
    "        self.lr_scheduler = None\n",
    "        self.steps_done = 0\n",
    "        self.epsilon_start = 1.0\n",
    "        self.epsilon_end = 0.15 # if you leave overnight, you can decrease this to 0.01\n",
    "        self.epsilon_decay = 500_000 # if you leave overnight, you can increase this to 1_000_000\n",
    "        self.batch_size = 256\n",
    "        self.gamma = 0.99  # Discount factor\n",
    "        self.target_update = 5000\n",
    "        self.loss = nn.MSELoss()\n",
    "        if evaluation_agent is None:\n",
    "            self.evaluation_agent = RandomAgent(self.env)\n",
    "        else:\n",
    "            self.evaluation_agent = evaluation_agent\n",
    "\n",
    "    def load_trained_model_from_file(self, path):\n",
    "        self.policy_net = torch.load(path)\n",
    "        self.policy_net.eval()\n",
    "\n",
    "    def choose_action(self, explore=False) -> int:\n",
    "        sample = random.random()\n",
    "        epsilon_threshold = self.epsilon_end + (self.epsilon_start - self.epsilon_end) * \\\n",
    "            math.exp(-1. * self.steps_done / self.epsilon_decay)\n",
    "        legal_moves = self.env.get_legal_actions()\n",
    "        if sample > epsilon_threshold or not explore:\n",
    "            with torch.no_grad():\n",
    "                state_tensor = torch.tensor(\n",
    "                    self.env.board, dtype=torch.float).unsqueeze(0)\n",
    "  \n",
    "                predictions = self.policy_net(state_tensor)\n",
    "                \n",
    "                # Mask out illegal moves\n",
    "                for i in range(self.env.action_space.n):\n",
    "                    if i not in legal_moves:\n",
    "                        predictions[0][i] = -float('inf')\n",
    "\n",
    "                # Choose the action with the highest Q value that is legal and convert to int\n",
    "                best_action = int(torch.argmax(predictions).item())\n",
    "                return best_action\n",
    "        else:\n",
    "            return random.choice(legal_moves)\n",
    "\n",
    "    def optimize_model(self):\n",
    "        if len(self.replay_buffer) < self.batch_size:\n",
    "            return\n",
    "\n",
    "        # Sample a batch of experiences from the replay buffer\n",
    "        states, actions, rewards, next_states, dones = self.replay_buffer.sample(\n",
    "            self.batch_size)\n",
    "\n",
    "        # Separate the components of each transition\n",
    "        states = torch.tensor(states, dtype=torch.float32).to(device)\n",
    "        actions = torch.tensor(actions, dtype=torch.long).to(device)\n",
    "        rewards = torch.tensor(rewards, dtype=torch.float32).to(device)\n",
    "        next_states = torch.tensor(next_states, dtype=torch.float32).to(device)\n",
    "        dones = torch.tensor(dones, dtype=torch.float32).to(device)\n",
    "\n",
    "        # Calculate current Q-values from the policy_net\n",
    "        current_q_values = self.policy_net(states).gather(1, actions.unsqueeze(-1)).squeeze(-1)\n",
    "        next_state_values = self.target_net(next_states).max(1)[0]\n",
    "\n",
    "        # Compute the expected Q values for the current state-action pairs\n",
    "        expected_q_values = rewards + self.gamma * next_state_values * (1 - dones)\n",
    "\n",
    "        # Compute loss\n",
    "        loss = self.loss(current_q_values, expected_q_values)\n",
    "\n",
    "        # Optimize the model\n",
    "        self.optimizer.zero_grad()\n",
    "        loss.backward()\n",
    "        self.optimizer.step()\n",
    "\n",
    "        return loss.item()\n",
    "\n",
    "    def train(self, n_games, print_interval):\n",
    "        losses = []\n",
    "\n",
    "        self.evaluate(50, message=True)\n",
    "\n",
    "        for episode in tqdm(range(n_games)):\n",
    "            observation = self.env.reset()\n",
    "            done = False\n",
    "\n",
    "            while not done:\n",
    "                action = self.choose_action(explore=True)\n",
    "                self.steps_done += 1\n",
    "\n",
    "                next_observation, reward, done, info = self.env.step(action)\n",
    "                self.replay_buffer.push(\n",
    "                    observation, action, reward, next_observation, done)\n",
    "                \n",
    "                # the agent thinks he is player 1, so we need to flip the board and the player\n",
    "                self.env.flip_board()\n",
    "                self.env.current_player = 3 - self.env.current_player\n",
    "\n",
    "                loss = self.optimize_model()\n",
    "\n",
    "                observation = next_observation\n",
    "\n",
    "                if loss is not None:\n",
    "                    losses.append(loss)\n",
    "\n",
    "            if (episode + 1) % self.target_update == 0:\n",
    "                self.target_net.load_state_dict(self.policy_net.state_dict())\n",
    "\n",
    "            if (episode + 1) % print_interval == 0 and len(losses) > 0:\n",
    "                avg_loss = sum(losses[-print_interval:]) / len(losses[-print_interval:])\n",
    "                print(f\"Episode {episode + 1}: Average Loss = {avg_loss}\")\n",
    "                self.evaluate(50, message=True)\n",
    "                print()\n",
    "                torch.save(self.policy_net, f\"checkpoints/model_{episode + 1}.pt\")\n",
    "               \n",
    "\n",
    "    def evaluate(self, n_games, show=False, message=False, evaluation_agent=None):\n",
    "        if evaluation_agent is None:\n",
    "            evaluation_agent = self.evaluation_agent\n",
    "\n",
    "        wins, avg_length = self.env.play(self, evaluation_agent, n_games, show)\n",
    "        if message:\n",
    "            print(f\"Out of {n_games} games against {evaluation_agent.name}, the model won {wins[1]} games : {wins[1] / n_games * 100:.2f}% with an average game length of {avg_length}\")\n",
    "        return wins"
   ]
  },
  {
   "cell_type": "code",
   "execution_count": 10,
   "metadata": {},
   "outputs": [
    {
     "name": "stdout",
     "output_type": "stream",
     "text": [
      "Number of parameters in the model: 105159\n"
     ]
    }
   ],
   "source": [
    "# Train a new model\n",
    "\n",
    "env = ConnectFourEnv()\n",
    "replay_buffer = ReplayBuffer(10000)\n",
    "agent = DQNAgent(env, replay_buffer)\n",
    "# agent.load_trained_model_from_file(\"checkpoints/model_6000.pt\")\n",
    "\n",
    "# print the number of parameters in the model\n",
    "print(\n",
    "    f\"Number of parameters in the model: {sum(p.numel() for p in agent.policy_net.parameters())}\")"
   ]
  },
  {
   "cell_type": "code",
   "execution_count": 11,
   "metadata": {},
   "outputs": [
    {
     "name": "stderr",
     "output_type": "stream",
     "text": [
      "  0%|          | 0/50 [00:00<?, ?it/s]"
     ]
    },
    {
     "name": "stderr",
     "output_type": "stream",
     "text": [
      "100%|██████████| 50/50 [00:00<00:00, 196.06it/s]\n"
     ]
    },
    {
     "name": "stdout",
     "output_type": "stream",
     "text": [
      "Out of 50 games against RandomAgent, the model won 45 games : 90.00% with an average game length of 12.54\n"
     ]
    },
    {
     "name": "stderr",
     "output_type": "stream",
     "text": [
      "  0%|          | 99/1000000 [00:19<64:55:13,  4.28it/s]"
     ]
    },
    {
     "name": "stdout",
     "output_type": "stream",
     "text": [
      "Episode 100: Average Loss = 0.0009939866964123211\n"
     ]
    },
    {
     "name": "stderr",
     "output_type": "stream",
     "text": [
      "100%|██████████| 50/50 [00:00<00:00, 365.68it/s]\n",
      "  0%|          | 100/1000000 [00:20<74:06:16,  3.75it/s]"
     ]
    },
    {
     "name": "stdout",
     "output_type": "stream",
     "text": [
      "Out of 50 games against RandomAgent, the model won 39 games : 78.00% with an average game length of 15.66\n",
      "\n"
     ]
    },
    {
     "name": "stderr",
     "output_type": "stream",
     "text": [
      "  0%|          | 199/1000000 [00:42<74:33:16,  3.73it/s] "
     ]
    },
    {
     "name": "stdout",
     "output_type": "stream",
     "text": [
      "Episode 200: Average Loss = 0.003907338668068405\n"
     ]
    },
    {
     "name": "stderr",
     "output_type": "stream",
     "text": [
      "100%|██████████| 50/50 [00:00<00:00, 407.46it/s]\n",
      "  0%|          | 200/1000000 [00:43<96:20:47,  2.88it/s]"
     ]
    },
    {
     "name": "stdout",
     "output_type": "stream",
     "text": [
      "Out of 50 games against RandomAgent, the model won 37 games : 74.00% with an average game length of 13.38\n",
      "\n"
     ]
    },
    {
     "name": "stderr",
     "output_type": "stream",
     "text": [
      "  0%|          | 299/1000000 [01:09<49:46:32,  5.58it/s] "
     ]
    },
    {
     "name": "stdout",
     "output_type": "stream",
     "text": [
      "Episode 300: Average Loss = 0.0038855219157994726\n"
     ]
    },
    {
     "name": "stderr",
     "output_type": "stream",
     "text": [
      "100%|██████████| 50/50 [00:00<00:00, 225.14it/s]\n",
      "  0%|          | 300/1000000 [01:09<68:22:28,  4.06it/s]"
     ]
    },
    {
     "name": "stdout",
     "output_type": "stream",
     "text": [
      "Out of 50 games against RandomAgent, the model won 40 games : 80.00% with an average game length of 16.04\n",
      "\n"
     ]
    },
    {
     "name": "stderr",
     "output_type": "stream",
     "text": [
      "  0%|          | 399/1000000 [01:34<64:53:16,  4.28it/s] "
     ]
    },
    {
     "name": "stdout",
     "output_type": "stream",
     "text": [
      "Episode 400: Average Loss = 0.0031605233182199297\n"
     ]
    },
    {
     "name": "stderr",
     "output_type": "stream",
     "text": [
      "100%|██████████| 50/50 [00:00<00:00, 440.49it/s]\n",
      "  0%|          | 400/1000000 [01:35<67:44:09,  4.10it/s]"
     ]
    },
    {
     "name": "stdout",
     "output_type": "stream",
     "text": [
      "Out of 50 games against RandomAgent, the model won 39 games : 78.00% with an average game length of 11.18\n",
      "\n"
     ]
    },
    {
     "name": "stderr",
     "output_type": "stream",
     "text": [
      "  0%|          | 499/1000000 [01:59<61:04:43,  4.55it/s] "
     ]
    },
    {
     "name": "stdout",
     "output_type": "stream",
     "text": [
      "Episode 500: Average Loss = 0.0042245591018581765\n"
     ]
    },
    {
     "name": "stderr",
     "output_type": "stream",
     "text": [
      "100%|██████████| 50/50 [00:00<00:00, 409.03it/s]\n",
      "  0%|          | 500/1000000 [01:59<74:05:51,  3.75it/s]"
     ]
    },
    {
     "name": "stdout",
     "output_type": "stream",
     "text": [
      "Out of 50 games against RandomAgent, the model won 44 games : 88.00% with an average game length of 13.96\n",
      "\n"
     ]
    },
    {
     "name": "stderr",
     "output_type": "stream",
     "text": [
      "  0%|          | 599/1000000 [02:24<46:24:06,  5.98it/s] "
     ]
    },
    {
     "name": "stdout",
     "output_type": "stream",
     "text": [
      "Episode 600: Average Loss = 0.006626346647390164\n"
     ]
    },
    {
     "name": "stderr",
     "output_type": "stream",
     "text": [
      "100%|██████████| 50/50 [00:00<00:00, 444.92it/s]\n",
      "  0%|          | 600/1000000 [02:24<64:17:07,  4.32it/s]"
     ]
    },
    {
     "name": "stdout",
     "output_type": "stream",
     "text": [
      "Out of 50 games against RandomAgent, the model won 44 games : 88.00% with an average game length of 12.2\n",
      "\n"
     ]
    },
    {
     "name": "stderr",
     "output_type": "stream",
     "text": [
      "  0%|          | 630/1000000 [02:31<66:44:38,  4.16it/s]\n"
     ]
    },
    {
     "ename": "KeyboardInterrupt",
     "evalue": "",
     "output_type": "error",
     "traceback": [
      "\u001b[0;31m---------------------------------------------------------------------------\u001b[0m",
      "\u001b[0;31mKeyboardInterrupt\u001b[0m                         Traceback (most recent call last)",
      "\u001b[1;32m/Users/newlife1/RL/main.ipynb Cell 6\u001b[0m line \u001b[0;36m1\n\u001b[0;32m----> <a href='vscode-notebook-cell:/Users/newlife1/RL/main.ipynb#W5sZmlsZQ%3D%3D?line=0'>1</a>\u001b[0m agent\u001b[39m.\u001b[39;49mtrain(\u001b[39m1_000_000\u001b[39;49m, print_interval\u001b[39m=\u001b[39;49m\u001b[39m100\u001b[39;49m)\n",
      "\u001b[1;32m/Users/newlife1/RL/main.ipynb Cell 6\u001b[0m line \u001b[0;36m1\n\u001b[1;32m    <a href='vscode-notebook-cell:/Users/newlife1/RL/main.ipynb#W5sZmlsZQ%3D%3D?line=123'>124</a>\u001b[0m \u001b[39mself\u001b[39m\u001b[39m.\u001b[39menv\u001b[39m.\u001b[39mflip_board()\n\u001b[1;32m    <a href='vscode-notebook-cell:/Users/newlife1/RL/main.ipynb#W5sZmlsZQ%3D%3D?line=124'>125</a>\u001b[0m \u001b[39mself\u001b[39m\u001b[39m.\u001b[39menv\u001b[39m.\u001b[39mcurrent_player \u001b[39m=\u001b[39m \u001b[39m3\u001b[39m \u001b[39m-\u001b[39m \u001b[39mself\u001b[39m\u001b[39m.\u001b[39menv\u001b[39m.\u001b[39mcurrent_player\n\u001b[0;32m--> <a href='vscode-notebook-cell:/Users/newlife1/RL/main.ipynb#W5sZmlsZQ%3D%3D?line=126'>127</a>\u001b[0m loss \u001b[39m=\u001b[39m \u001b[39mself\u001b[39;49m\u001b[39m.\u001b[39;49moptimize_model()\n\u001b[1;32m    <a href='vscode-notebook-cell:/Users/newlife1/RL/main.ipynb#W5sZmlsZQ%3D%3D?line=128'>129</a>\u001b[0m observation \u001b[39m=\u001b[39m next_observation\n\u001b[1;32m    <a href='vscode-notebook-cell:/Users/newlife1/RL/main.ipynb#W5sZmlsZQ%3D%3D?line=130'>131</a>\u001b[0m \u001b[39mif\u001b[39;00m loss \u001b[39mis\u001b[39;00m \u001b[39mnot\u001b[39;00m \u001b[39mNone\u001b[39;00m:\n",
      "\u001b[1;32m/Users/newlife1/RL/main.ipynb Cell 6\u001b[0m line \u001b[0;36m9\n\u001b[1;32m     <a href='vscode-notebook-cell:/Users/newlife1/RL/main.ipynb#W5sZmlsZQ%3D%3D?line=88'>89</a>\u001b[0m \u001b[39m# Calculate current Q-values from the policy_net\u001b[39;00m\n\u001b[1;32m     <a href='vscode-notebook-cell:/Users/newlife1/RL/main.ipynb#W5sZmlsZQ%3D%3D?line=89'>90</a>\u001b[0m current_q_values \u001b[39m=\u001b[39m \u001b[39mself\u001b[39m\u001b[39m.\u001b[39mpolicy_net(states)\u001b[39m.\u001b[39mgather(\u001b[39m1\u001b[39m, actions\u001b[39m.\u001b[39munsqueeze(\u001b[39m-\u001b[39m\u001b[39m1\u001b[39m))\u001b[39m.\u001b[39msqueeze(\u001b[39m-\u001b[39m\u001b[39m1\u001b[39m)\n\u001b[0;32m---> <a href='vscode-notebook-cell:/Users/newlife1/RL/main.ipynb#W5sZmlsZQ%3D%3D?line=90'>91</a>\u001b[0m next_state_values \u001b[39m=\u001b[39m \u001b[39mself\u001b[39;49m\u001b[39m.\u001b[39;49mtarget_net(next_states)\u001b[39m.\u001b[39mmax(\u001b[39m1\u001b[39m)[\u001b[39m0\u001b[39m]\n\u001b[1;32m     <a href='vscode-notebook-cell:/Users/newlife1/RL/main.ipynb#W5sZmlsZQ%3D%3D?line=92'>93</a>\u001b[0m \u001b[39m# Compute the expected Q values for the current state-action pairs\u001b[39;00m\n\u001b[1;32m     <a href='vscode-notebook-cell:/Users/newlife1/RL/main.ipynb#W5sZmlsZQ%3D%3D?line=93'>94</a>\u001b[0m expected_q_values \u001b[39m=\u001b[39m rewards \u001b[39m+\u001b[39m \u001b[39mself\u001b[39m\u001b[39m.\u001b[39mgamma \u001b[39m*\u001b[39m next_state_values \u001b[39m*\u001b[39m (\u001b[39m1\u001b[39m \u001b[39m-\u001b[39m dones)\n",
      "File \u001b[0;32m~/Library/Python/3.9/lib/python/site-packages/torch/nn/modules/module.py:1511\u001b[0m, in \u001b[0;36mModule._wrapped_call_impl\u001b[0;34m(self, *args, **kwargs)\u001b[0m\n\u001b[1;32m   1509\u001b[0m     \u001b[39mreturn\u001b[39;00m \u001b[39mself\u001b[39m\u001b[39m.\u001b[39m_compiled_call_impl(\u001b[39m*\u001b[39margs, \u001b[39m*\u001b[39m\u001b[39m*\u001b[39mkwargs)  \u001b[39m# type: ignore[misc]\u001b[39;00m\n\u001b[1;32m   1510\u001b[0m \u001b[39melse\u001b[39;00m:\n\u001b[0;32m-> 1511\u001b[0m     \u001b[39mreturn\u001b[39;00m \u001b[39mself\u001b[39;49m\u001b[39m.\u001b[39;49m_call_impl(\u001b[39m*\u001b[39;49margs, \u001b[39m*\u001b[39;49m\u001b[39m*\u001b[39;49mkwargs)\n",
      "File \u001b[0;32m~/Library/Python/3.9/lib/python/site-packages/torch/nn/modules/module.py:1520\u001b[0m, in \u001b[0;36mModule._call_impl\u001b[0;34m(self, *args, **kwargs)\u001b[0m\n\u001b[1;32m   1515\u001b[0m \u001b[39m# If we don't have any hooks, we want to skip the rest of the logic in\u001b[39;00m\n\u001b[1;32m   1516\u001b[0m \u001b[39m# this function, and just call forward.\u001b[39;00m\n\u001b[1;32m   1517\u001b[0m \u001b[39mif\u001b[39;00m \u001b[39mnot\u001b[39;00m (\u001b[39mself\u001b[39m\u001b[39m.\u001b[39m_backward_hooks \u001b[39mor\u001b[39;00m \u001b[39mself\u001b[39m\u001b[39m.\u001b[39m_backward_pre_hooks \u001b[39mor\u001b[39;00m \u001b[39mself\u001b[39m\u001b[39m.\u001b[39m_forward_hooks \u001b[39mor\u001b[39;00m \u001b[39mself\u001b[39m\u001b[39m.\u001b[39m_forward_pre_hooks\n\u001b[1;32m   1518\u001b[0m         \u001b[39mor\u001b[39;00m _global_backward_pre_hooks \u001b[39mor\u001b[39;00m _global_backward_hooks\n\u001b[1;32m   1519\u001b[0m         \u001b[39mor\u001b[39;00m _global_forward_hooks \u001b[39mor\u001b[39;00m _global_forward_pre_hooks):\n\u001b[0;32m-> 1520\u001b[0m     \u001b[39mreturn\u001b[39;00m forward_call(\u001b[39m*\u001b[39;49margs, \u001b[39m*\u001b[39;49m\u001b[39m*\u001b[39;49mkwargs)\n\u001b[1;32m   1522\u001b[0m \u001b[39mtry\u001b[39;00m:\n\u001b[1;32m   1523\u001b[0m     result \u001b[39m=\u001b[39m \u001b[39mNone\u001b[39;00m\n",
      "\u001b[1;32m/Users/newlife1/RL/main.ipynb Cell 6\u001b[0m line \u001b[0;36m1\n\u001b[1;32m     <a href='vscode-notebook-cell:/Users/newlife1/RL/main.ipynb#W5sZmlsZQ%3D%3D?line=9'>10</a>\u001b[0m \u001b[39mdef\u001b[39;00m \u001b[39mforward\u001b[39m(\u001b[39mself\u001b[39m, x):\n\u001b[1;32m     <a href='vscode-notebook-cell:/Users/newlife1/RL/main.ipynb#W5sZmlsZQ%3D%3D?line=10'>11</a>\u001b[0m     x \u001b[39m=\u001b[39m x\u001b[39m.\u001b[39mview(\u001b[39m-\u001b[39m\u001b[39m1\u001b[39m, \u001b[39m1\u001b[39m, \u001b[39mself\u001b[39m\u001b[39m.\u001b[39minput_shape[\u001b[39m0\u001b[39m], \u001b[39mself\u001b[39m\u001b[39m.\u001b[39minput_shape[\u001b[39m1\u001b[39m])\n\u001b[0;32m---> <a href='vscode-notebook-cell:/Users/newlife1/RL/main.ipynb#W5sZmlsZQ%3D%3D?line=11'>12</a>\u001b[0m     x \u001b[39m=\u001b[39m F\u001b[39m.\u001b[39mrelu(\u001b[39mself\u001b[39;49m\u001b[39m.\u001b[39;49mconv(x))\n\u001b[1;32m     <a href='vscode-notebook-cell:/Users/newlife1/RL/main.ipynb#W5sZmlsZQ%3D%3D?line=12'>13</a>\u001b[0m     x \u001b[39m=\u001b[39m x\u001b[39m.\u001b[39mview(x\u001b[39m.\u001b[39msize(\u001b[39m0\u001b[39m), \u001b[39m-\u001b[39m\u001b[39m1\u001b[39m) \n\u001b[1;32m     <a href='vscode-notebook-cell:/Users/newlife1/RL/main.ipynb#W5sZmlsZQ%3D%3D?line=13'>14</a>\u001b[0m     x \u001b[39m=\u001b[39m F\u001b[39m.\u001b[39mrelu(\u001b[39mself\u001b[39m\u001b[39m.\u001b[39mfc1(x))\n",
      "File \u001b[0;32m~/Library/Python/3.9/lib/python/site-packages/torch/nn/modules/module.py:1511\u001b[0m, in \u001b[0;36mModule._wrapped_call_impl\u001b[0;34m(self, *args, **kwargs)\u001b[0m\n\u001b[1;32m   1509\u001b[0m     \u001b[39mreturn\u001b[39;00m \u001b[39mself\u001b[39m\u001b[39m.\u001b[39m_compiled_call_impl(\u001b[39m*\u001b[39margs, \u001b[39m*\u001b[39m\u001b[39m*\u001b[39mkwargs)  \u001b[39m# type: ignore[misc]\u001b[39;00m\n\u001b[1;32m   1510\u001b[0m \u001b[39melse\u001b[39;00m:\n\u001b[0;32m-> 1511\u001b[0m     \u001b[39mreturn\u001b[39;00m \u001b[39mself\u001b[39;49m\u001b[39m.\u001b[39;49m_call_impl(\u001b[39m*\u001b[39;49margs, \u001b[39m*\u001b[39;49m\u001b[39m*\u001b[39;49mkwargs)\n",
      "File \u001b[0;32m~/Library/Python/3.9/lib/python/site-packages/torch/nn/modules/module.py:1520\u001b[0m, in \u001b[0;36mModule._call_impl\u001b[0;34m(self, *args, **kwargs)\u001b[0m\n\u001b[1;32m   1515\u001b[0m \u001b[39m# If we don't have any hooks, we want to skip the rest of the logic in\u001b[39;00m\n\u001b[1;32m   1516\u001b[0m \u001b[39m# this function, and just call forward.\u001b[39;00m\n\u001b[1;32m   1517\u001b[0m \u001b[39mif\u001b[39;00m \u001b[39mnot\u001b[39;00m (\u001b[39mself\u001b[39m\u001b[39m.\u001b[39m_backward_hooks \u001b[39mor\u001b[39;00m \u001b[39mself\u001b[39m\u001b[39m.\u001b[39m_backward_pre_hooks \u001b[39mor\u001b[39;00m \u001b[39mself\u001b[39m\u001b[39m.\u001b[39m_forward_hooks \u001b[39mor\u001b[39;00m \u001b[39mself\u001b[39m\u001b[39m.\u001b[39m_forward_pre_hooks\n\u001b[1;32m   1518\u001b[0m         \u001b[39mor\u001b[39;00m _global_backward_pre_hooks \u001b[39mor\u001b[39;00m _global_backward_hooks\n\u001b[1;32m   1519\u001b[0m         \u001b[39mor\u001b[39;00m _global_forward_hooks \u001b[39mor\u001b[39;00m _global_forward_pre_hooks):\n\u001b[0;32m-> 1520\u001b[0m     \u001b[39mreturn\u001b[39;00m forward_call(\u001b[39m*\u001b[39;49margs, \u001b[39m*\u001b[39;49m\u001b[39m*\u001b[39;49mkwargs)\n\u001b[1;32m   1522\u001b[0m \u001b[39mtry\u001b[39;00m:\n\u001b[1;32m   1523\u001b[0m     result \u001b[39m=\u001b[39m \u001b[39mNone\u001b[39;00m\n",
      "File \u001b[0;32m~/Library/Python/3.9/lib/python/site-packages/torch/nn/modules/conv.py:460\u001b[0m, in \u001b[0;36mConv2d.forward\u001b[0;34m(self, input)\u001b[0m\n\u001b[1;32m    459\u001b[0m \u001b[39mdef\u001b[39;00m \u001b[39mforward\u001b[39m(\u001b[39mself\u001b[39m, \u001b[39minput\u001b[39m: Tensor) \u001b[39m-\u001b[39m\u001b[39m>\u001b[39m Tensor:\n\u001b[0;32m--> 460\u001b[0m     \u001b[39mreturn\u001b[39;00m \u001b[39mself\u001b[39;49m\u001b[39m.\u001b[39;49m_conv_forward(\u001b[39minput\u001b[39;49m, \u001b[39mself\u001b[39;49m\u001b[39m.\u001b[39;49mweight, \u001b[39mself\u001b[39;49m\u001b[39m.\u001b[39;49mbias)\n",
      "File \u001b[0;32m~/Library/Python/3.9/lib/python/site-packages/torch/nn/modules/conv.py:456\u001b[0m, in \u001b[0;36mConv2d._conv_forward\u001b[0;34m(self, input, weight, bias)\u001b[0m\n\u001b[1;32m    452\u001b[0m \u001b[39mif\u001b[39;00m \u001b[39mself\u001b[39m\u001b[39m.\u001b[39mpadding_mode \u001b[39m!=\u001b[39m \u001b[39m'\u001b[39m\u001b[39mzeros\u001b[39m\u001b[39m'\u001b[39m:\n\u001b[1;32m    453\u001b[0m     \u001b[39mreturn\u001b[39;00m F\u001b[39m.\u001b[39mconv2d(F\u001b[39m.\u001b[39mpad(\u001b[39minput\u001b[39m, \u001b[39mself\u001b[39m\u001b[39m.\u001b[39m_reversed_padding_repeated_twice, mode\u001b[39m=\u001b[39m\u001b[39mself\u001b[39m\u001b[39m.\u001b[39mpadding_mode),\n\u001b[1;32m    454\u001b[0m                     weight, bias, \u001b[39mself\u001b[39m\u001b[39m.\u001b[39mstride,\n\u001b[1;32m    455\u001b[0m                     _pair(\u001b[39m0\u001b[39m), \u001b[39mself\u001b[39m\u001b[39m.\u001b[39mdilation, \u001b[39mself\u001b[39m\u001b[39m.\u001b[39mgroups)\n\u001b[0;32m--> 456\u001b[0m \u001b[39mreturn\u001b[39;00m F\u001b[39m.\u001b[39;49mconv2d(\u001b[39minput\u001b[39;49m, weight, bias, \u001b[39mself\u001b[39;49m\u001b[39m.\u001b[39;49mstride,\n\u001b[1;32m    457\u001b[0m                 \u001b[39mself\u001b[39;49m\u001b[39m.\u001b[39;49mpadding, \u001b[39mself\u001b[39;49m\u001b[39m.\u001b[39;49mdilation, \u001b[39mself\u001b[39;49m\u001b[39m.\u001b[39;49mgroups)\n",
      "\u001b[0;31mKeyboardInterrupt\u001b[0m: "
     ]
    }
   ],
   "source": [
    "agent.train(1_000_000, print_interval=100)"
   ]
  },
  {
   "cell_type": "code",
   "execution_count": null,
   "metadata": {},
   "outputs": [],
   "source": [
    "env.play(RandomAgent(env), RandomAgent(env), n_games=10000)"
   ]
  },
  {
   "cell_type": "code",
   "execution_count": null,
   "metadata": {},
   "outputs": [],
   "source": [
    "# play against the trained model\n",
    "\n",
    "env.play(agent, HumanAgent(env), n_games=1, show_game=True, show_outcome=True)"
   ]
  },
  {
   "cell_type": "code",
   "execution_count": null,
   "metadata": {},
   "outputs": [],
   "source": [
    "# save the model\n",
    "torch.save(agent.policy_net, 'connect_four_model.pt')"
   ]
  },
  {
   "cell_type": "code",
   "execution_count": null,
   "metadata": {},
   "outputs": [],
   "source": [
    "# resume training\n",
    "\n",
    "env = ConnectFourEnv()\n",
    "replay_buffer = ReplayBuffer(10000)\n",
    "agent = DQNAgent(env, replay_buffer)\n",
    "agent.policy_net = torch.load('connect_four_model.pt')"
   ]
  },
  {
   "cell_type": "code",
   "execution_count": null,
   "metadata": {},
   "outputs": [],
   "source": [
    "agent.evaluate(1000, message=True)"
   ]
  },
  {
   "cell_type": "code",
   "execution_count": 12,
   "metadata": {},
   "outputs": [
    {
     "name": "stderr",
     "output_type": "stream",
     "text": [
      "STAGE:2024-03-22 00:52:10 6158:258567 ActivityProfilerController.cpp:314] Completed Stage: Warm Up\n",
      "100%|██████████| 50/50 [00:00<00:00, 165.46it/s]\n"
     ]
    },
    {
     "name": "stdout",
     "output_type": "stream",
     "text": [
      "Out of 50 games against RandomAgent, the model won 41 games : 82.00% with an average game length of 15.7\n"
     ]
    },
    {
     "name": "stderr",
     "output_type": "stream",
     "text": [
      "100%|██████████| 50/50 [00:10<00:00,  4.73it/s]\n",
      "STAGE:2024-03-22 00:52:23 6158:258567 ActivityProfilerController.cpp:320] Completed Stage: Collection\n",
      "STAGE:2024-03-22 00:52:23 6158:258567 ActivityProfilerController.cpp:324] Completed Stage: Post Processing\n"
     ]
    },
    {
     "name": "stdout",
     "output_type": "stream",
     "text": [
      "-------------------------------------------------------  ------------  ------------  ------------  ------------  ------------  ------------  \n",
      "                                                   Name    Self CPU %      Self CPU   CPU total %     CPU total  CPU time avg    # of Calls  \n",
      "-------------------------------------------------------  ------------  ------------  ------------  ------------  ------------  ------------  \n",
      "                             aten::convolution_backward        25.46%        1.772s        25.63%        1.783s     928.671us          1920  \n",
      "                               aten::mkldnn_convolution        14.09%     980.305ms        14.25%     991.197ms     425.406us          2330  \n",
      "                                               aten::mm        13.60%     946.368ms        13.60%     946.459ms      82.158us         11520  \n",
      "                                            aten::addmm         8.27%     575.178ms         8.86%     616.572ms      88.208us          6990  \n",
      "                               Optimizer.step#Adam.step         6.41%     446.228ms        17.52%        1.219s       1.270ms           960  \n",
      "                                            aten::lerp_         3.20%     222.483ms         3.20%     222.483ms      28.969us          7680  \n",
      "                                         aten::addcdiv_         3.08%     214.375ms         3.08%     214.375ms      27.913us          7680  \n",
      "                               aten::threshold_backward         2.91%     202.687ms         2.91%     202.687ms      35.189us          5760  \n",
      "                                        aten::clamp_min         1.88%     130.902ms         1.88%     130.902ms      18.727us          6990  \n",
      "                                         aten::_to_copy         1.33%      92.539ms         1.66%     115.206ms       3.334us         34560  \n",
      "-------------------------------------------------------  ------------  ------------  ------------  ------------  ------------  ------------  \n",
      "Self CPU time total: 6.958s\n",
      "\n"
     ]
    }
   ],
   "source": [
    "# import profilers and check the training bottlenecks of the model\n",
    "\n",
    "from torch.profiler import profile, record_function, ProfilerActivity\n",
    "\n",
    "\n",
    "with profile(activities=[ProfilerActivity.CPU], record_shapes=True) as prof:\n",
    "    agent.train(50, print_interval=100)\n",
    "\n",
    "print(prof.key_averages().table(sort_by=\"self_cpu_time_total\", row_limit=10))"
   ]
  },
  {
   "cell_type": "code",
   "execution_count": null,
   "metadata": {},
   "outputs": [],
   "source": []
  }
 ],
 "metadata": {
  "kernelspec": {
   "display_name": "Python 3",
   "language": "python",
   "name": "python3"
  },
  "language_info": {
   "codemirror_mode": {
    "name": "ipython",
    "version": 3
   },
   "file_extension": ".py",
   "mimetype": "text/x-python",
   "name": "python",
   "nbconvert_exporter": "python",
   "pygments_lexer": "ipython3",
   "version": "3.9.6"
  },
  "orig_nbformat": 4
 },
 "nbformat": 4,
 "nbformat_minor": 2
}
